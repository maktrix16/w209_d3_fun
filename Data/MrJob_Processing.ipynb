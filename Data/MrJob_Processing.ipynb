{
 "cells": [
  {
   "cell_type": "code",
   "execution_count": 119,
   "metadata": {
    "collapsed": false
   },
   "outputs": [
    {
     "name": "stdout",
     "output_type": "stream",
     "text": [
      "Overwriting ../../Geolife_Trajectories_1.3/toy_data/001.csv\n"
     ]
    }
   ],
   "source": [
    "%%writefile ../../Geolife_Trajectories_1.3/toy_data/001.csv\n",
    "001,39.984686,116.318417,492,2008-10-23,01:53:15,NA\n",
    "001,39.984688,116.318385,492,2008-10-23,02:53:20,taxi\n",
    "001,39.984606,116.317065,505,2008-10-23,02:53:50,taxi"
   ]
  },
  {
   "cell_type": "code",
   "execution_count": 118,
   "metadata": {
    "collapsed": false
   },
   "outputs": [
    {
     "name": "stdout",
     "output_type": "stream",
     "text": [
      "Writing ../../Geolife_Trajectories_1.3/toy_data/002.csv\n"
     ]
    }
   ],
   "source": [
    "%%writefile ../../Geolife_Trajectories_1.3/toy_data/002.csv\n",
    "002,39.984655,116.318263,492,2008-10-23,02:51:25,taxi\n",
    "002,39.984539,116.317294,500,2008-10-23,02:53:15,NA\n",
    "002,39.984606,116.317065,505,2008-10-23,02:53:50,taxi"
   ]
  },
  {
   "cell_type": "code",
   "execution_count": 7,
   "metadata": {
    "collapsed": false
   },
   "outputs": [
    {
     "name": "stdout",
     "output_type": "stream",
     "text": [
      "upload: ../../Geolife_Trajectories_1.3/data_csv/001.csv to s3://w209-d3/data_csv/001.csv\n",
      "upload: ../../Geolife_Trajectories_1.3/data_csv/000.csv to s3://w209-d3/data_csv/000.csv\n",
      "upload: ../../Geolife_Trajectories_1.3/data_csv/005.csv to s3://w209-d3/data_csv/005.csv\n",
      "upload: ../../Geolife_Trajectories_1.3/data_csv/006.csv to s3://w209-d3/data_csv/006.csv\n",
      "upload: ../../Geolife_Trajectories_1.3/data_csv/002.csv to s3://w209-d3/data_csv/002.csv\n",
      "upload: ../../Geolife_Trajectories_1.3/data_csv/004.csv to s3://w209-d3/data_csv/004.csv\n",
      "upload: ../../Geolife_Trajectories_1.3/data_csv/008.csv to s3://w209-d3/data_csv/008.csv\n",
      "upload: ../../Geolife_Trajectories_1.3/data_csv/009.csv to s3://w209-d3/data_csv/009.csv\n",
      "upload: ../../Geolife_Trajectories_1.3/data_csv/007.csv to s3://w209-d3/data_csv/007.csv\n",
      "upload: ../../Geolife_Trajectories_1.3/data_csv/003.csv to s3://w209-d3/data_csv/003.csv\n",
      "upload: ../../Geolife_Trajectories_1.3/data_csv/012.csv to s3://w209-d3/data_csv/012.csv\n",
      "upload: ../../Geolife_Trajectories_1.3/data_csv/011.csv to s3://w209-d3/data_csv/011.csv\n",
      "upload: ../../Geolife_Trajectories_1.3/data_csv/013.csv to s3://w209-d3/data_csv/013.csv\n",
      "upload: ../../Geolife_Trajectories_1.3/data_csv/015.csv to s3://w209-d3/data_csv/015.csv\n",
      "upload: ../../Geolife_Trajectories_1.3/data_csv/010.csv to s3://w209-d3/data_csv/010.csv\n",
      "upload: ../../Geolife_Trajectories_1.3/data_csv/014.csv to s3://w209-d3/data_csv/014.csv\n",
      "upload: ../../Geolife_Trajectories_1.3/data_csv/016.csv to s3://w209-d3/data_csv/016.csv\n",
      "upload: ../../Geolife_Trajectories_1.3/data_csv/019.csv to s3://w209-d3/data_csv/019.csv\n",
      "upload: ../../Geolife_Trajectories_1.3/data_csv/021.csv to s3://w209-d3/data_csv/021.csv\n",
      "upload: ../../Geolife_Trajectories_1.3/data_csv/020.csv to s3://w209-d3/data_csv/020.csv\n",
      "upload: ../../Geolife_Trajectories_1.3/data_csv/018.csv to s3://w209-d3/data_csv/018.csv\n",
      "upload: ../../Geolife_Trajectories_1.3/data_csv/023.csv to s3://w209-d3/data_csv/023.csv\n",
      "upload: ../../Geolife_Trajectories_1.3/data_csv/022.csv to s3://w209-d3/data_csv/022.csv\n",
      "upload: ../../Geolife_Trajectories_1.3/data_csv/024.csv to s3://w209-d3/data_csv/024.csv\n",
      "upload: ../../Geolife_Trajectories_1.3/data_csv/027.csv to s3://w209-d3/data_csv/027.csv\n",
      "upload: ../../Geolife_Trajectories_1.3/data_csv/017.csv to s3://w209-d3/data_csv/017.csv\n",
      "upload: ../../Geolife_Trajectories_1.3/data_csv/028.csv to s3://w209-d3/data_csv/028.csv\n",
      "upload: ../../Geolife_Trajectories_1.3/data_csv/029.csv to s3://w209-d3/data_csv/029.csv\n",
      "upload: ../../Geolife_Trajectories_1.3/data_csv/025.csv to s3://w209-d3/data_csv/025.csv\n",
      "upload: ../../Geolife_Trajectories_1.3/data_csv/031.csv to s3://w209-d3/data_csv/031.csv\n",
      "upload: ../../Geolife_Trajectories_1.3/data_csv/026.csv to s3://w209-d3/data_csv/026.csv\n",
      "upload: ../../Geolife_Trajectories_1.3/data_csv/033.csv to s3://w209-d3/data_csv/033.csv\n",
      "upload: ../../Geolife_Trajectories_1.3/data_csv/032.csv to s3://w209-d3/data_csv/032.csv\n",
      "upload: ../../Geolife_Trajectories_1.3/data_csv/034.csv to s3://w209-d3/data_csv/034.csv\n",
      "upload: ../../Geolife_Trajectories_1.3/data_csv/037.csv to s3://w209-d3/data_csv/037.csv\n",
      "upload: ../../Geolife_Trajectories_1.3/data_csv/030.csv to s3://w209-d3/data_csv/030.csv\n",
      "upload: ../../Geolife_Trajectories_1.3/data_csv/035.csv to s3://w209-d3/data_csv/035.csv\n",
      "upload: ../../Geolife_Trajectories_1.3/data_csv/036.csv to s3://w209-d3/data_csv/036.csv\n",
      "upload: ../../Geolife_Trajectories_1.3/data_csv/040.csv to s3://w209-d3/data_csv/040.csv\n",
      "upload: ../../Geolife_Trajectories_1.3/data_csv/038.csv to s3://w209-d3/data_csv/038.csv\n",
      "upload: ../../Geolife_Trajectories_1.3/data_csv/039.csv to s3://w209-d3/data_csv/039.csv\n",
      "upload: ../../Geolife_Trajectories_1.3/data_csv/043.csv to s3://w209-d3/data_csv/043.csv\n",
      "upload: ../../Geolife_Trajectories_1.3/data_csv/045.csv to s3://w209-d3/data_csv/045.csv\n",
      "upload: ../../Geolife_Trajectories_1.3/data_csv/047.csv to s3://w209-d3/data_csv/047.csv\n",
      "upload: ../../Geolife_Trajectories_1.3/data_csv/046.csv to s3://w209-d3/data_csv/046.csv\n",
      "upload: ../../Geolife_Trajectories_1.3/data_csv/048.csv to s3://w209-d3/data_csv/048.csv\n",
      "upload: ../../Geolife_Trajectories_1.3/data_csv/049.csv to s3://w209-d3/data_csv/049.csv\n",
      "upload: ../../Geolife_Trajectories_1.3/data_csv/044.csv to s3://w209-d3/data_csv/044.csv\n",
      "upload: ../../Geolife_Trajectories_1.3/data_csv/051.csv to s3://w209-d3/data_csv/051.csv\n",
      "upload: ../../Geolife_Trajectories_1.3/data_csv/042.csv to s3://w209-d3/data_csv/042.csv\n",
      "upload: ../../Geolife_Trajectories_1.3/data_csv/053.csv to s3://w209-d3/data_csv/053.csv\n",
      "upload: ../../Geolife_Trajectories_1.3/data_csv/041.csv to s3://w209-d3/data_csv/041.csv\n",
      "upload: ../../Geolife_Trajectories_1.3/data_csv/054.csv to s3://w209-d3/data_csv/054.csv\n",
      "upload: ../../Geolife_Trajectories_1.3/data_csv/056.csv to s3://w209-d3/data_csv/056.csv\n",
      "upload: ../../Geolife_Trajectories_1.3/data_csv/060.csv to s3://w209-d3/data_csv/060.csv\n",
      "upload: ../../Geolife_Trajectories_1.3/data_csv/058.csv to s3://w209-d3/data_csv/058.csv\n",
      "upload: ../../Geolife_Trajectories_1.3/data_csv/061.csv to s3://w209-d3/data_csv/061.csv\n",
      "upload: ../../Geolife_Trajectories_1.3/data_csv/050.csv to s3://w209-d3/data_csv/050.csv\n",
      "upload: ../../Geolife_Trajectories_1.3/data_csv/059.csv to s3://w209-d3/data_csv/059.csv\n",
      "upload: ../../Geolife_Trajectories_1.3/data_csv/055.csv to s3://w209-d3/data_csv/055.csv\n",
      "upload: ../../Geolife_Trajectories_1.3/data_csv/057.csv to s3://w209-d3/data_csv/057.csv\n",
      "upload: ../../Geolife_Trajectories_1.3/data_csv/063.csv to s3://w209-d3/data_csv/063.csv\n",
      "upload: ../../Geolife_Trajectories_1.3/data_csv/064.csv to s3://w209-d3/data_csv/064.csv\n",
      "upload: ../../Geolife_Trajectories_1.3/data_csv/052.csv to s3://w209-d3/data_csv/052.csv\n",
      "upload: ../../Geolife_Trajectories_1.3/data_csv/066.csv to s3://w209-d3/data_csv/066.csv\n",
      "upload: ../../Geolife_Trajectories_1.3/data_csv/062.csv to s3://w209-d3/data_csv/062.csv\n",
      "upload: ../../Geolife_Trajectories_1.3/data_csv/065.csv to s3://w209-d3/data_csv/065.csv\n",
      "upload: ../../Geolife_Trajectories_1.3/data_csv/069.csv to s3://w209-d3/data_csv/069.csv\n",
      "upload: ../../Geolife_Trajectories_1.3/data_csv/070.csv to s3://w209-d3/data_csv/070.csv\n",
      "upload: ../../Geolife_Trajectories_1.3/data_csv/072.csv to s3://w209-d3/data_csv/072.csv\n",
      "upload: ../../Geolife_Trajectories_1.3/data_csv/073.csv to s3://w209-d3/data_csv/073.csv\n",
      "upload: ../../Geolife_Trajectories_1.3/data_csv/076.csv to s3://w209-d3/data_csv/076.csv\n",
      "upload: ../../Geolife_Trajectories_1.3/data_csv/075.csv to s3://w209-d3/data_csv/075.csv\n",
      "upload: ../../Geolife_Trajectories_1.3/data_csv/077.csv to s3://w209-d3/data_csv/077.csv\n",
      "upload: ../../Geolife_Trajectories_1.3/data_csv/071.csv to s3://w209-d3/data_csv/071.csv\n",
      "upload: ../../Geolife_Trajectories_1.3/data_csv/080.csv to s3://w209-d3/data_csv/080.csv\n",
      "upload: ../../Geolife_Trajectories_1.3/data_csv/067.csv to s3://w209-d3/data_csv/067.csv\n",
      "upload: ../../Geolife_Trajectories_1.3/data_csv/079.csv to s3://w209-d3/data_csv/079.csv\n",
      "upload: ../../Geolife_Trajectories_1.3/data_csv/078.csv to s3://w209-d3/data_csv/078.csv\n",
      "upload: ../../Geolife_Trajectories_1.3/data_csv/081.csv to s3://w209-d3/data_csv/081.csv\n",
      "upload: ../../Geolife_Trajectories_1.3/data_csv/083.csv to s3://w209-d3/data_csv/083.csv\n",
      "upload: ../../Geolife_Trajectories_1.3/data_csv/074.csv to s3://w209-d3/data_csv/074.csv\n",
      "upload: ../../Geolife_Trajectories_1.3/data_csv/068.csv to s3://w209-d3/data_csv/068.csv\n",
      "upload: ../../Geolife_Trajectories_1.3/data_csv/082.csv to s3://w209-d3/data_csv/082.csv\n",
      "upload: ../../Geolife_Trajectories_1.3/data_csv/086.csv to s3://w209-d3/data_csv/086.csv\n",
      "upload: ../../Geolife_Trajectories_1.3/data_csv/087.csv to s3://w209-d3/data_csv/087.csv\n",
      "upload: ../../Geolife_Trajectories_1.3/data_csv/088.csv to s3://w209-d3/data_csv/088.csv\n",
      "upload: ../../Geolife_Trajectories_1.3/data_csv/089.csv to s3://w209-d3/data_csv/089.csv\n",
      "upload: ../../Geolife_Trajectories_1.3/data_csv/090.csv to s3://w209-d3/data_csv/090.csv\n",
      "upload: ../../Geolife_Trajectories_1.3/data_csv/091.csv to s3://w209-d3/data_csv/091.csv\n",
      "upload: ../../Geolife_Trajectories_1.3/data_csv/094.csv to s3://w209-d3/data_csv/094.csv\n",
      "upload: ../../Geolife_Trajectories_1.3/data_csv/093.csv to s3://w209-d3/data_csv/093.csv\n",
      "upload: ../../Geolife_Trajectories_1.3/data_csv/092.csv to s3://w209-d3/data_csv/092.csv\n",
      "upload: ../../Geolife_Trajectories_1.3/data_csv/095.csv to s3://w209-d3/data_csv/095.csv\n",
      "upload: ../../Geolife_Trajectories_1.3/data_csv/097.csv to s3://w209-d3/data_csv/097.csv\n",
      "upload: ../../Geolife_Trajectories_1.3/data_csv/098.csv to s3://w209-d3/data_csv/098.csv\n",
      "upload: ../../Geolife_Trajectories_1.3/data_csv/099.csv to s3://w209-d3/data_csv/099.csv\n",
      "upload: ../../Geolife_Trajectories_1.3/data_csv/100.csv to s3://w209-d3/data_csv/100.csv\n",
      "upload: ../../Geolife_Trajectories_1.3/data_csv/084.csv to s3://w209-d3/data_csv/084.csv\n",
      "upload: ../../Geolife_Trajectories_1.3/data_csv/101.csv to s3://w209-d3/data_csv/101.csv\n",
      "upload: ../../Geolife_Trajectories_1.3/data_csv/102.csv to s3://w209-d3/data_csv/102.csv\n",
      "upload: ../../Geolife_Trajectories_1.3/data_csv/105.csv to s3://w209-d3/data_csv/105.csv\n",
      "upload: ../../Geolife_Trajectories_1.3/data_csv/106.csv to s3://w209-d3/data_csv/106.csv\n",
      "upload: ../../Geolife_Trajectories_1.3/data_csv/107.csv to s3://w209-d3/data_csv/107.csv\n",
      "upload: ../../Geolife_Trajectories_1.3/data_csv/103.csv to s3://w209-d3/data_csv/103.csv\n",
      "upload: ../../Geolife_Trajectories_1.3/data_csv/108.csv to s3://w209-d3/data_csv/108.csv\n",
      "upload: ../../Geolife_Trajectories_1.3/data_csv/109.csv to s3://w209-d3/data_csv/109.csv\n",
      "upload: ../../Geolife_Trajectories_1.3/data_csv/110.csv to s3://w209-d3/data_csv/110.csv\n",
      "upload: ../../Geolife_Trajectories_1.3/data_csv/114.csv to s3://w209-d3/data_csv/114.csv\n",
      "upload: ../../Geolife_Trajectories_1.3/data_csv/111.csv to s3://w209-d3/data_csv/111.csv\n",
      "upload: ../../Geolife_Trajectories_1.3/data_csv/113.csv to s3://w209-d3/data_csv/113.csv\n",
      "upload: ../../Geolife_Trajectories_1.3/data_csv/116.csv to s3://w209-d3/data_csv/116.csv\n",
      "upload: ../../Geolife_Trajectories_1.3/data_csv/117.csv to s3://w209-d3/data_csv/117.csv\n",
      "upload: ../../Geolife_Trajectories_1.3/data_csv/118.csv to s3://w209-d3/data_csv/118.csv\n",
      "upload: ../../Geolife_Trajectories_1.3/data_csv/120.csv to s3://w209-d3/data_csv/120.csv\n",
      "upload: ../../Geolife_Trajectories_1.3/data_csv/104.csv to s3://w209-d3/data_csv/104.csv\n",
      "upload: ../../Geolife_Trajectories_1.3/data_csv/121.csv to s3://w209-d3/data_csv/121.csv\n",
      "upload: ../../Geolife_Trajectories_1.3/data_csv/123.csv to s3://w209-d3/data_csv/123.csv\n",
      "upload: ../../Geolife_Trajectories_1.3/data_csv/085.csv to s3://w209-d3/data_csv/085.csv\n",
      "upload: ../../Geolife_Trajectories_1.3/data_csv/096.csv to s3://w209-d3/data_csv/096.csv\n",
      "upload: ../../Geolife_Trajectories_1.3/data_csv/122.csv to s3://w209-d3/data_csv/122.csv\n",
      "upload: ../../Geolife_Trajectories_1.3/data_csv/115.csv to s3://w209-d3/data_csv/115.csv\n",
      "upload: ../../Geolife_Trajectories_1.3/data_csv/127.csv to s3://w209-d3/data_csv/127.csv\n",
      "upload: ../../Geolife_Trajectories_1.3/data_csv/125.csv to s3://w209-d3/data_csv/125.csv\n",
      "upload: ../../Geolife_Trajectories_1.3/data_csv/119.csv to s3://w209-d3/data_csv/119.csv\n",
      "upload: ../../Geolife_Trajectories_1.3/data_csv/112.csv to s3://w209-d3/data_csv/112.csv\n",
      "upload: ../../Geolife_Trajectories_1.3/data_csv/124.csv to s3://w209-d3/data_csv/124.csv\n",
      "upload: ../../Geolife_Trajectories_1.3/data_csv/129.csv to s3://w209-d3/data_csv/129.csv\n",
      "upload: ../../Geolife_Trajectories_1.3/data_csv/126.csv to s3://w209-d3/data_csv/126.csv\n",
      "upload: ../../Geolife_Trajectories_1.3/data_csv/132.csv to s3://w209-d3/data_csv/132.csv\n",
      "upload: ../../Geolife_Trajectories_1.3/data_csv/133.csv to s3://w209-d3/data_csv/133.csv\n",
      "upload: ../../Geolife_Trajectories_1.3/data_csv/130.csv to s3://w209-d3/data_csv/130.csv\n",
      "upload: ../../Geolife_Trajectories_1.3/data_csv/136.csv to s3://w209-d3/data_csv/136.csv\n",
      "upload: ../../Geolife_Trajectories_1.3/data_csv/138.csv to s3://w209-d3/data_csv/138.csv\n",
      "upload: ../../Geolife_Trajectories_1.3/data_csv/137.csv to s3://w209-d3/data_csv/137.csv\n",
      "upload: ../../Geolife_Trajectories_1.3/data_csv/139.csv to s3://w209-d3/data_csv/139.csv\n",
      "upload: ../../Geolife_Trajectories_1.3/data_csv/135.csv to s3://w209-d3/data_csv/135.csv\n",
      "upload: ../../Geolife_Trajectories_1.3/data_csv/134.csv to s3://w209-d3/data_csv/134.csv\n",
      "upload: ../../Geolife_Trajectories_1.3/data_csv/131.csv to s3://w209-d3/data_csv/131.csv\n",
      "upload: ../../Geolife_Trajectories_1.3/data_csv/128.csv to s3://w209-d3/data_csv/128.csv\n",
      "upload: ../../Geolife_Trajectories_1.3/data_csv/143.csv to s3://w209-d3/data_csv/143.csv\n",
      "upload: ../../Geolife_Trajectories_1.3/data_csv/140.csv to s3://w209-d3/data_csv/140.csv\n",
      "upload: ../../Geolife_Trajectories_1.3/data_csv/145.csv to s3://w209-d3/data_csv/145.csv\n",
      "upload: ../../Geolife_Trajectories_1.3/data_csv/142.csv to s3://w209-d3/data_csv/142.csv\n",
      "upload: ../../Geolife_Trajectories_1.3/data_csv/146.csv to s3://w209-d3/data_csv/146.csv\n",
      "upload: ../../Geolife_Trajectories_1.3/data_csv/149.csv to s3://w209-d3/data_csv/149.csv\n",
      "upload: ../../Geolife_Trajectories_1.3/data_csv/150.csv to s3://w209-d3/data_csv/150.csv\n",
      "upload: ../../Geolife_Trajectories_1.3/data_csv/151.csv to s3://w209-d3/data_csv/151.csv\n",
      "upload: ../../Geolife_Trajectories_1.3/data_csv/152.csv to s3://w209-d3/data_csv/152.csv\n",
      "upload: ../../Geolife_Trajectories_1.3/data_csv/148.csv to s3://w209-d3/data_csv/148.csv\n",
      "upload: ../../Geolife_Trajectories_1.3/data_csv/147.csv to s3://w209-d3/data_csv/147.csv\n",
      "upload: ../../Geolife_Trajectories_1.3/data_csv/141.csv to s3://w209-d3/data_csv/141.csv\n",
      "upload: ../../Geolife_Trajectories_1.3/data_csv/144.csv to s3://w209-d3/data_csv/144.csv\n",
      "upload: ../../Geolife_Trajectories_1.3/data_csv/154.csv to s3://w209-d3/data_csv/154.csv\n",
      "upload: ../../Geolife_Trajectories_1.3/data_csv/155.csv to s3://w209-d3/data_csv/155.csv\n",
      "upload: ../../Geolife_Trajectories_1.3/data_csv/156.csv to s3://w209-d3/data_csv/156.csv\n",
      "upload: ../../Geolife_Trajectories_1.3/data_csv/157.csv to s3://w209-d3/data_csv/157.csv\n",
      "upload: ../../Geolife_Trajectories_1.3/data_csv/158.csv to s3://w209-d3/data_csv/158.csv\n",
      "upload: ../../Geolife_Trajectories_1.3/data_csv/161.csv to s3://w209-d3/data_csv/161.csv\n",
      "upload: ../../Geolife_Trajectories_1.3/data_csv/162.csv to s3://w209-d3/data_csv/162.csv\n",
      "upload: ../../Geolife_Trajectories_1.3/data_csv/160.csv to s3://w209-d3/data_csv/160.csv\n",
      "upload: ../../Geolife_Trajectories_1.3/data_csv/159.csv to s3://w209-d3/data_csv/159.csv\n",
      "upload: ../../Geolife_Trajectories_1.3/data_csv/153.csv to s3://w209-d3/data_csv/153.csv\n",
      "upload: ../../Geolife_Trajectories_1.3/data_csv/164.csv to s3://w209-d3/data_csv/164.csv\n",
      "upload: ../../Geolife_Trajectories_1.3/data_csv/166.csv to s3://w209-d3/data_csv/166.csv\n",
      "upload: ../../Geolife_Trajectories_1.3/data_csv/165.csv to s3://w209-d3/data_csv/165.csv\n",
      "upload: ../../Geolife_Trajectories_1.3/data_csv/170.csv to s3://w209-d3/data_csv/170.csv\n",
      "upload: ../../Geolife_Trajectories_1.3/data_csv/173.csv to s3://w209-d3/data_csv/173.csv\n",
      "upload: ../../Geolife_Trajectories_1.3/data_csv/169.csv to s3://w209-d3/data_csv/169.csv\n",
      "upload: ../../Geolife_Trajectories_1.3/data_csv/171.csv to s3://w209-d3/data_csv/171.csv\n",
      "upload: ../../Geolife_Trajectories_1.3/data_csv/167.csv to s3://w209-d3/data_csv/167.csv\n",
      "upload: ../../Geolife_Trajectories_1.3/data_csv/174.csv to s3://w209-d3/data_csv/174.csv\n",
      "upload: ../../Geolife_Trajectories_1.3/data_csv/176.csv to s3://w209-d3/data_csv/176.csv\n",
      "upload: ../../Geolife_Trajectories_1.3/data_csv/178.csv to s3://w209-d3/data_csv/178.csv\n",
      "upload: ../../Geolife_Trajectories_1.3/data_csv/175.csv to s3://w209-d3/data_csv/175.csv\n",
      "upload: ../../Geolife_Trajectories_1.3/data_csv/172.csv to s3://w209-d3/data_csv/172.csv\n",
      "upload: ../../Geolife_Trajectories_1.3/data_csv/168.csv to s3://w209-d3/data_csv/168.csv\n",
      "upload: ../../Geolife_Trajectories_1.3/data_csv/163.csv to s3://w209-d3/data_csv/163.csv\n",
      "upload: ../../Geolife_Trajectories_1.3/data_csv/181.csv to s3://w209-d3/data_csv/181.csv\n",
      "upload: ../../Geolife_Trajectories_1.3/data_csv/177.csv to s3://w209-d3/data_csv/177.csv\n",
      "upload: ../../Geolife_Trajectories_1.3/data_csv/180.csv to s3://w209-d3/data_csv/180.csv\n",
      "upload: ../../Geolife_Trajectories_1.3/data_csv/179.csv to s3://w209-d3/data_csv/179.csv\n"
     ]
    }
   ],
   "source": [
    "!aws s3 cp --recursive ../../Geolife_Trajectories_1.3/data_csv s3://w209-d3/data_csv"
   ]
  },
  {
   "cell_type": "code",
   "execution_count": 8,
   "metadata": {
    "collapsed": false
   },
   "outputs": [
    {
     "name": "stdout",
     "output_type": "stream",
     "text": [
      "upload: ../../Geolife_Trajectories_1.3/data_csv_test/000.csv to s3://w209-d3/data_csv_test/000.csv\n",
      "upload: ../../Geolife_Trajectories_1.3/data_csv_test/001.csv to s3://w209-d3/data_csv_test/001.csv\n"
     ]
    }
   ],
   "source": [
    "!aws s3 cp --recursive ../../Geolife_Trajectories_1.3/data_csv_test s3://w209-d3/data_csv_test"
   ]
  },
  {
   "cell_type": "code",
   "execution_count": 15,
   "metadata": {
    "collapsed": false
   },
   "outputs": [],
   "source": [
    "!head -n1000 ../../Geolife_Trajectories_1.3/data_csv/000.csv > ../../Geolife_Trajectories_1.3/data_csv_test_short/000.csv\n",
    "!head -n1000 ../../Geolife_Trajectories_1.3/data_csv/001.csv > ../../Geolife_Trajectories_1.3/data_csv_test_short/001.csv"
   ]
  },
  {
   "cell_type": "code",
   "execution_count": 16,
   "metadata": {
    "collapsed": false,
    "scrolled": true
   },
   "outputs": [
    {
     "name": "stdout",
     "output_type": "stream",
     "text": [
      "upload: ../../Geolife_Trajectories_1.3/data_csv_test_short/001.csv to s3://w209-d3/data_csv_test_short/001.csv\r\n",
      "Completed 1 of 2 part(s) with 1 file(s) remaining\r",
      "upload: ../../Geolife_Trajectories_1.3/data_csv_test_short/000.csv to s3://w209-d3/data_csv_test_short/000.csv\r\n"
     ]
    }
   ],
   "source": [
    "!aws s3 cp --recursive ../../Geolife_Trajectories_1.3/data_csv_test_short s3://w209-d3/data_csv_test_short"
   ]
  },
  {
   "cell_type": "code",
   "execution_count": 76,
   "metadata": {
    "collapsed": false
   },
   "outputs": [
    {
     "data": {
      "text/plain": [
       "True"
      ]
     },
     "execution_count": 76,
     "metadata": {},
     "output_type": "execute_result"
    }
   ],
   "source": [
    "from datetime import datetime\n",
    "\n",
    "date,time=[\"2008-10-23\", \"02:53:04\"]\n",
    "dt = date+' '+time\n",
    "a = datetime.strptime(dt, '%Y-%m-%d %H:%M:%S')\n",
    "b = datetime(2008, 10, 23, 2, 53, 9)\n",
    "\n",
    "time_diff=b-a\n",
    "\n",
    "time_diff.total_seconds() < 6\n"
   ]
  },
  {
   "cell_type": "markdown",
   "metadata": {},
   "source": [
    "#Calculate Distance"
   ]
  },
  {
   "cell_type": "code",
   "execution_count": 177,
   "metadata": {
    "collapsed": false
   },
   "outputs": [
    {
     "name": "stdout",
     "output_type": "stream",
     "text": [
      "Overwriting CalcDist.py\n"
     ]
    }
   ],
   "source": [
    "%%writefile CalcDist.py\n",
    "\n",
    "from mrjob.job import MRJob\n",
    "from mrjob.step import MRStep\n",
    "from mrjob.compat import jobconf_from_env\n",
    "from datetime import datetime\n",
    "import math\n",
    "import ast\n",
    "\n",
    "sort_conf = {\n",
    "    'mapred.reduce.tasks': '1'\n",
    "}\n",
    "\n",
    "#convert coordinates to distance\n",
    "def coor_to_km(x1,y1,x2,y2):\n",
    "    R = 6371\n",
    "    dx = (x2-x1) * math.pi / 180\n",
    "    dy = (y2-y1) * math.pi / 180\n",
    "    x1 *= math.pi / 180\n",
    "    x2 *= math.pi / 180\n",
    "    \n",
    "    a = math.sin(dx/2)**2 + (math.sin(dy/2)**2) * (math.cos(x1)*math.cos(x2))\n",
    "    c = 2*math.atan2(math.sqrt(a),math.sqrt(1-a))\n",
    "    d = R * c\n",
    "    return d\n",
    "\n",
    "#convert to seconds (since python 2.6 or below does not have datetime.total_seconds()\n",
    "#http://stackoverflow.com/questions/28089558/alternative-to-total-seconds-in-python-2-6\n",
    "def timedelta_total_seconds(timedelta):\n",
    "    return (\n",
    "        timedelta.microseconds + 0.0 +\n",
    "        (timedelta.seconds + timedelta.days * 24 * 3600) * 10 ** 6) / 10 ** 6\n",
    "\n",
    "\n",
    "class CalcDist(MRJob):\n",
    "    def steps(self):\n",
    "        return [MRStep(mapper=self.mapper,\n",
    "                       reducer_init=self.reducer_init,\n",
    "                       reducer=self.reducer,\n",
    "                       jobconf=sort_conf)]\n",
    "    \n",
    "    def mapper(self, _, line):\n",
    "        user_id,x,y,alt,date,time,transport = line.strip().split(\",\")\n",
    "        dt = date+' '+time\n",
    "        yield (user_id,dt), (x,y,transport)\n",
    "    \n",
    "\n",
    "    def reducer_init(self):\n",
    "        self.dt_initial = datetime(2008, 1, 1, 0, 0, 0)\n",
    "        self.x_initial=0.0\n",
    "        self.y_initial=0.0\n",
    "        self.user = ''\n",
    "        self.dist = {'all':0.0}\n",
    "        self.max_interval_sec = int(jobconf_from_env('max_interval_sec'))\n",
    "\n",
    "    \n",
    "    def reducer(self, key, values):\n",
    "        \n",
    "        index=0\n",
    "        user_id,dt = key\n",
    "        dt_initial = datetime(2008, 1, 1, 0, 0, 0)\n",
    "        dt_key = datetime.strptime(dt, '%Y-%m-%d %H:%M:%S')\n",
    "        time_diff = dt_key - self.dt_initial\n",
    "#         time_diff = time_diff.total_seconds()  #only for python 2.7 or above\n",
    "        time_diff = timedelta_total_seconds(time_diff)\n",
    "        self.dt_initial = dt_key\n",
    "        \n",
    "        for value in values:\n",
    "            x_new,y_new,transport = value\n",
    "            x_new=float(x_new)\n",
    "            y_new=float(y_new)\n",
    "            \n",
    "            #assume only within certain time interval belong to be in the same trip\n",
    "            if time_diff < self.max_interval_sec:\n",
    "                distance = coor_to_km(self.x_initial,self.y_initial,x_new,y_new)\n",
    "                self.dist['all'] += distance\n",
    "                self.dist.setdefault(transport,0.0)\n",
    "                self.dist[transport] += distance\n",
    "\n",
    "            #if different user, reset distance counter\n",
    "            if self.user != user_id:\n",
    "                self.user = user_id\n",
    "                self.dist = {'all':0.0}\n",
    "                \n",
    "\n",
    "            self.x_initial = x_new\n",
    "            self.y_initial = y_new\n",
    "            \n",
    "            yield None, (user_id,dt,x_new,y_new,transport,self.dist)\n",
    "            \n",
    "if __name__ == '__main__':\n",
    "    CalcDist.run()   \n",
    "                "
   ]
  },
  {
   "cell_type": "code",
   "execution_count": 96,
   "metadata": {
    "collapsed": false
   },
   "outputs": [
    {
     "name": "stdout",
     "output_type": "stream",
     "text": [
      "using configs in /Users/maktrix/.mrjob.conf\n",
      "Creating persistent job flow to run several jobs in...\n",
      "creating tmp directory /var/folders/s3/ll81spln3fn418tf8hhv248m0000gn/T/no_script.maktrix.20151108.105200.610338\n",
      "writing master bootstrap script to /var/folders/s3/ll81spln3fn418tf8hhv248m0000gn/T/no_script.maktrix.20151108.105200.610338/b.py\n",
      "Copying non-input files into s3://w209-d3/no_script.maktrix.20151108.105200.610338/files/\n",
      "Waiting 5.0s for S3 eventual consistency\n",
      "Creating Elastic MapReduce job flow\n",
      "Job flow created with ID: j-1GNVZZQS3Z1VV\n",
      "j-1GNVZZQS3Z1VV\n"
     ]
    }
   ],
   "source": [
    "#create new job flow\n",
    "!python /Users/maktrix/Dropbox/Berkeley/W261_ML_scale/mrjob/mrjob/tools/emr/create_job_flow.py"
   ]
  },
  {
   "cell_type": "code",
   "execution_count": 180,
   "metadata": {
    "collapsed": false
   },
   "outputs": [],
   "source": [
    "%reload_ext autoreload\n",
    "%autoreload 2\n",
    "\n",
    "import os\n",
    "\n",
    "def mrjob_driver(inputfolder='', outputfolder='', onEMR=False, job_flow_id=''):\n",
    "    \n",
    "    from CalcDist import CalcDist\n",
    "\n",
    "    if onEMR:\n",
    "        os.system(\"aws s3 rm --recursive \"+outputfolder)\n",
    "        mr_job = CalcDist(args=[inputfolder,\n",
    "                                '-r','emr',\n",
    "#                                 '--emr-job-flow-id=' + job_flow_id,\n",
    "                                '--output-dir=' + outputfolder,\n",
    "                                '--jobconf', 'max_interval_sec=1800'])\n",
    "\n",
    "    else: \n",
    "        !rm -r ../../Geolife_Trajectories_1.3/local/calc-dist/\n",
    "        mr_job = CalcDist(args=[inputfolder,\n",
    "                                '--output-dir=' + '../../Geolife_Trajectories_1.3/local/calc-dist/',\n",
    "                                '--jobconf', 'max_interval_sec=1800'])\n",
    "\n",
    "    with mr_job.make_runner() as runner:\n",
    "        runner.run()\n",
    "\n",
    "# run driver function (locally)\n",
    "# mrjob_driver(inputfolder='../../Geolife_Trajectories_1.3/toy_data')       \n",
    "\n",
    "#run driver function (EMR)\n",
    "mrjob_driver(inputfolder='s3://w209-d3/data_csv/', \n",
    "             outputfolder='s3://w209-d3/calc-dist2/data_csv/',\n",
    "             onEMR=True \n",
    "#              job_flow_id='j-1GNVZZQS3Z1VV'\n",
    "            )\n"
   ]
  },
  {
   "cell_type": "code",
   "execution_count": 179,
   "metadata": {
    "collapsed": false
   },
   "outputs": [
    {
     "name": "stdout",
     "output_type": "stream",
     "text": [
      "null\t[\"000\", \"2008-10-23 02:53:04\", 39.984702, 116.318417, \"NA\", {\"all\": 0.0}]\r\n",
      "null\t[\"000\", \"2008-10-23 02:53:10\", 39.984683, 116.31845, \"bike\", {\"all\": 0.003516886428136976, \"bike\": 0.003516886428136976}]\r\n",
      "null\t[\"000\", \"2008-10-23 02:53:52\", 39.984683, 116.31845, \"taxi\", {\"taxi\": 0.0, \"all\": 0.003516886428136976, \"bike\": 0.003516886428136976}]\r\n",
      "null\t[\"001\", \"2008-10-23 01:53:15\", 39.984686, 116.318417, \"NA\", {\"all\": 0.0}]\r\n",
      "null\t[\"001\", \"2008-10-23 02:53:20\", 39.984688, 116.318385, \"taxi\", {\"all\": 0.0}]\r\n",
      "null\t[\"001\", \"2008-10-23 02:53:50\", 39.984606, 116.317065, \"taxi\", {\"taxi\": 0.11283223062896626, \"all\": 0.11283223062896626}]\r\n",
      "null\t[\"002\", \"2008-10-23 02:51:25\", 39.984655, 116.318263, \"taxi\", {\"all\": 0.0}]\r\n",
      "null\t[\"002\", \"2008-10-23 02:53:15\", 39.984539, 116.317294, \"NA\", {\"NA\": 0.08355982534929753, \"all\": 0.08355982534929753}]\r\n",
      "null\t[\"002\", \"2008-10-23 02:53:50\", 39.984606, 116.317065, \"taxi\", {\"taxi\": 0.020884688774914933, \"NA\": 0.08355982534929753, \"all\": 0.10444451412421246}]\r\n"
     ]
    }
   ],
   "source": [
    "##EMR RESULTS\n",
    "import smart_open\n",
    "index = 0\n",
    "filename='s3://w209-d3/calc-dist2/data_csv/part-00000'\n",
    "for line in smart_open.smart_open(filename):\n",
    "    print line.strip().split(\"\\t\")\n",
    "    index +=1\n",
    "    if index==10000: break\n",
    "\n",
    "##LOCAL RESULTS  \n",
    "# !cat ../../Geolife_Trajectories_1.3/local/calc-dist/*\n",
    "# !head -n1000 ../../Geolife_Trajectories_1.3/local/calc-dist/*\n",
    "# !tail -n50 ../../Geolife_Trajectories_1.3/local/calc-dist/*"
   ]
  },
  {
   "cell_type": "markdown",
   "metadata": {},
   "source": [
    "#Main Aggregation MrJob"
   ]
  },
  {
   "cell_type": "code",
   "execution_count": 168,
   "metadata": {
    "collapsed": false
   },
   "outputs": [
    {
     "name": "stdout",
     "output_type": "stream",
     "text": [
      "Overwriting Aggregate.py\n"
     ]
    }
   ],
   "source": [
    "%%writefile Aggregate.py\n",
    "\n",
    "from mrjob.job import MRJob\n",
    "from mrjob.step import MRStep\n",
    "from mrjob.compat import jobconf_from_env\n",
    "from datetime import datetime\n",
    "from datetime import timedelta\n",
    "import ast\n",
    "import math\n",
    "# from mrjob.protocol import JSONValueProtocol\n",
    "\n",
    "sort_conf = {\n",
    "    'mapred.reduce.tasks': '1'\n",
    "}\n",
    "\n",
    "class Aggregate(MRJob):\n",
    "\n",
    "#     INPUT_PROTOCOL = JSONValueProtocol\n",
    "    \n",
    "    def steps(self):\n",
    "        return [MRStep(mapper_init=self.mapper1_init,\n",
    "                       mapper=self.mapper1,\n",
    "                       reducer_init=self.reducer1_init,\n",
    "                       reducer=self.reducer1,\n",
    "                       reducer_final=self.reducer1_final\n",
    "                      )\n",
    "                ,\n",
    "                MRStep(mapper=self.mapper2\n",
    "                       ,\n",
    "                       reducer_init=self.reducer2_init,\n",
    "                       reducer=self.reducer2,\n",
    "                       reducer_final=self.reducer2_final),\n",
    "                MRStep(mapper=self.mapper3,\n",
    "                       reducer=self.reducer3,\n",
    "                       jobconf=sort_conf\n",
    "                      )\n",
    "               ]\n",
    "    \n",
    "    ### First MrJob: aggregate by the time interval\n",
    "    \n",
    "    \n",
    "    def mapper1_init(self):\n",
    "        self.interval = int(jobconf_from_env('interval'))\n",
    "    \n",
    "    def mapper1(self, _, line):\n",
    "        key,data = line.strip().split(\"\\t\")\n",
    "        \n",
    "        user_id,dt,x_new,y_new,transport,dist = ast.literal_eval(data)\n",
    "        dt_convert = datetime.strptime(dt, '%Y-%m-%d %H:%M:%S')\n",
    "        sec = dt_convert.second\n",
    "        remainder = sec%self.interval\n",
    "        if remainder != 0:  \n",
    "            update_sec = self.interval-remainder\n",
    "        else:\n",
    "            update_sec=0\n",
    "        \n",
    "        dt_convert += timedelta(0,update_sec)\n",
    "        dt_convert = dt_convert.strftime(\"%Y-%m-%d %H:%M:%S\")\n",
    "        yield (dt_convert,user_id), (dt,x_new,y_new,transport,dist)\n",
    "    \n",
    "    def reducer1_init(self):\n",
    "        self.current_dt = ''\n",
    "        self.current_user=''\n",
    "        self.current_max_dist = 0.0\n",
    "        self.aggregate = {}\n",
    "\n",
    "    \n",
    "    def reducer1(self, key, values):\n",
    "        dt_convert,user_id = key\n",
    "        self.aggregate.setdefault(dt_convert,{})\n",
    "        \n",
    "        if dt_convert != self.current_dt or user_id != self.current_user:\n",
    "            self.current_dt = dt_convert\n",
    "            self.current_user = user_id\n",
    "            self.current_max_dist = 0.0\n",
    "\n",
    "        for value in values:\n",
    "            dt,x_new,y_new,transport,dist = value\n",
    "            if dist['all'] >= self.current_max_dist :\n",
    "                self.current_max_dist = dist['all']\n",
    "#                 value.append(user_id)\n",
    "                self.aggregate[dt_convert][user_id]=value\n",
    "        \n",
    "    def reducer1_final(self):\n",
    "        for dt_convert, values in self.aggregate.iteritems():\n",
    "            for user_id, value in values.iteritems(): \n",
    "                dt,x_new,y_new,transport,dist = value\n",
    "                yield dt_convert, (user_id,dt,x_new,y_new,transport,dist)\n",
    "        \n",
    "    ### 2nd MrJob: aggregate by the users within the time interval\n",
    "   \n",
    "    def mapper2(self, dt_convert, value):\n",
    "        yield dt_convert, value\n",
    "        \n",
    "    def reducer2_init(self):\n",
    "        self.current_dt = ''\n",
    "        self.aggregate = {}\n",
    "#         self.users={}\n",
    "#         self.transports={}\n",
    "        self.dists={}\n",
    "            \n",
    "    def reducer2(self, dt_convert, values): \n",
    "        \n",
    "        for value in values:\n",
    "            user_id,dt,x_new,y_new,transport,dists = value\n",
    "            self.aggregate.setdefault(dt_convert,{})\n",
    "\n",
    "            self.aggregate[dt_convert].setdefault(\"users\",[])\n",
    "            self.aggregate[dt_convert][\"users\"].append({user_id:[x_new,y_new,transport]})\n",
    "\n",
    "            self.aggregate[dt_convert].setdefault(\"transports\",{})\n",
    "            self.aggregate[dt_convert][\"transports\"].setdefault(transport,0)\n",
    "            self.aggregate[dt_convert][\"transports\"][transport]+=1\n",
    "\n",
    "            self.dists[user_id] = dists\n",
    "#             for transport_mode,dist in dists.iteritems():\n",
    "#                 self.dists.setdefault(user_id,{})\n",
    "#                 self.dists[user_id].setdefault(transport_mode,0.0)\n",
    "#                 self.dists[user_id][transport_mode] += dist\n",
    "#                 self.dists[user]\n",
    "        \n",
    "        for user_id, dists in self.dists.iteritems():\n",
    "            self.aggregate[dt_convert].setdefault('dists',{})\n",
    "            for transport_mode, dist in dists.iteritems():\n",
    "                self.aggregate[dt_convert]['dists'].setdefault(transport_mode,0.0)\n",
    "                self.aggregate[dt_convert]['dists'][transport_mode] += dist\n",
    "            \n",
    "#             self.aggregate[dt_convert]['dists'] = self.dists.copy()\n",
    "                \n",
    "    def reducer2_final(self):                         \n",
    "        for dt_convert, value in self.aggregate.iteritems():\n",
    "            yield dt_convert, value\n",
    "\n",
    "### 3rd MrJob: sort by dt_convert\n",
    "    \n",
    "    def mapper3(self,dt_convert,value):\n",
    "        yield dt_convert,value\n",
    "        \n",
    "    def reducer3(self,dt_convert,values):\n",
    "        for value in values:\n",
    "            yield dt_convert,value\n",
    "            \n",
    "if __name__ == '__main__':\n",
    "    Aggregate.run()\n"
   ]
  },
  {
   "cell_type": "code",
   "execution_count": 68,
   "metadata": {
    "collapsed": false
   },
   "outputs": [
    {
     "name": "stdout",
     "output_type": "stream",
     "text": [
      "using configs in /Users/maktrix/.mrjob.conf\n",
      "Creating persistent job flow to run several jobs in...\n",
      "creating tmp directory /var/folders/s3/ll81spln3fn418tf8hhv248m0000gn/T/no_script.maktrix.20151107.134656.227702\n",
      "writing master bootstrap script to /var/folders/s3/ll81spln3fn418tf8hhv248m0000gn/T/no_script.maktrix.20151107.134656.227702/b.py\n",
      "Copying non-input files into s3://w209-d3/no_script.maktrix.20151107.134656.227702/files/\n",
      "Waiting 5.0s for S3 eventual consistency\n",
      "Creating Elastic MapReduce job flow\n",
      "Job flow created with ID: j-1JE76Q6E0IZLL\n",
      "j-1JE76Q6E0IZLL\n"
     ]
    }
   ],
   "source": [
    "#create new job flow (small cluster)\n",
    "!python /Users/maktrix/Dropbox/Berkeley/W261_ML_scale/mrjob/mrjob/tools/emr/create_job_flow.py"
   ]
  },
  {
   "cell_type": "code",
   "execution_count": 181,
   "metadata": {
    "collapsed": false
   },
   "outputs": [
    {
     "name": "stdout",
     "output_type": "stream",
     "text": [
      "download: s3://w209-d3/aggregate2/data_csv/part-00000 to ../../Geolife_Trajectories_1.3/local/aggregate2/part-00000\n"
     ]
    }
   ],
   "source": [
    "%reload_ext autoreload\n",
    "%autoreload 2\n",
    "\n",
    "import os\n",
    "\n",
    "def aggregate_driver(inputfolder='', outputfolder='', onEMR=False, job_flow_id=''):\n",
    "\n",
    "    from Aggregate import Aggregate\n",
    "    \n",
    "    if onEMR:\n",
    "        os.system(\"aws s3 rm \"+inputfolder+\"_SUCCESS\")\n",
    "        os.system(\"aws s3 rm --recursive \"+outputfolder)\n",
    "        mr_job = Aggregate(args=[inputfolder,\n",
    "                                 '-r','emr',\n",
    "                                 '--output-dir=' + outputfolder,\n",
    "#                                  '--emr-job-flow-id=' + job_flow_id,\n",
    "                                 '--jobconf', 'interval=15'])    \n",
    "    else:\n",
    "        !rm -r ../../Geolife_Trajectories_1.3/local/aggregate/\n",
    "        mr_job = Aggregate(args=[inputfolder,\n",
    "                                 '--output-dir=' + '../../Geolife_Trajectories_1.3/local/aggregate/',\n",
    "                                 '--jobconf', 'interval=15'])\n",
    "        \n",
    "    with mr_job.make_runner() as runner:\n",
    "        runner.run()\n",
    "\n",
    "    \n",
    "# run driver function (EMR)\n",
    "aggregate_driver(inputfolder='s3://w209-d3/calc-dist2/data_csv/', \n",
    "             outputfolder='s3://w209-d3/aggregate2/data_csv/',\n",
    "             onEMR=True, \n",
    "             job_flow_id='')\n",
    "!rm -r ../../Geolife_Trajectories_1.3/local/aggregate2/\n",
    "!mkdir ../../Geolife_Trajectories_1.3/local/aggregate2/\n",
    "!aws s3 cp s3://w209-d3/aggregate2/data_csv/part-00000 ../../Geolife_Trajectories_1.3/local/aggregate2/part-00000\n",
    "\n",
    "    \n",
    "## run driver function (locally)\n",
    "# aggregate_driver(inputfolder='../../Geolife_Trajectories_1.3/local/calc-dist/')  \n"
   ]
  },
  {
   "cell_type": "code",
   "execution_count": 182,
   "metadata": {
    "collapsed": false
   },
   "outputs": [
    {
     "name": "stdout",
     "output_type": "stream",
     "text": [
      "\"2012-07-27 08:29:15\"\t{\"transports\": {\"NA\": 1}, \"users\": [{\"163\": [39.984516663000001, 116.302059985, \"NA\"]}], \"dists\": {\"taxi\": 4440.6102291981524, \"bike\": 6309.3140097796568, \"all\": 1127045.3598806493, \"run\": 5.7338214379781771, \"car\": 25881.033540941578, \"bus\": 18849.715606401976, \"walk\": 6880.4236643397899, \"train\": 34263.540181645367, \"motorcycle\": 4.303923491750826, \"NA\": 1011025.895265318, \"airplane\": 11837.318163599522, \"boat\": 146.86584636220212, \"subway\": 7400.6056281401061}}\r\n",
      "\"2012-07-27 08:29:30\"\t{\"transports\": {\"NA\": 1}, \"users\": [{\"163\": [39.983167424000001, 116.302093149, \"NA\"]}], \"dists\": {\"taxi\": 4440.6102291981524, \"bike\": 6309.3140097796568, \"all\": 1127045.5099743095, \"run\": 5.7338214379781771, \"car\": 25881.033540941578, \"bus\": 18849.715606401976, \"walk\": 6880.4236643397899, \"train\": 34263.540181645367, \"motorcycle\": 4.303923491750826, \"NA\": 1011026.0453589781, \"airplane\": 11837.318163599522, \"boat\": 146.86584636220212, \"subway\": 7400.6056281401061}}\r\n",
      "\"2012-07-27 08:29:45\"\t{\"transports\": {\"NA\": 1}, \"users\": [{\"163\": [39.98172641, 116.302066962, \"NA\"]}], \"dists\": {\"taxi\": 4440.6102291981524, \"bike\": 6309.3140097796568, \"all\": 1127045.6702383435, \"run\": 5.7338214379781771, \"car\": 25881.033540941578, \"bus\": 18849.715606401976, \"walk\": 6880.4236643397899, \"train\": 34263.540181645367, \"motorcycle\": 4.303923491750826, \"NA\": 1011026.2056230122, \"airplane\": 11837.318163599522, \"boat\": 146.86584636220212, \"subway\": 7400.6056281401061}}\r\n",
      "\"2012-07-27 08:30:00\"\t{\"transports\": {\"NA\": 1}, \"users\": [{\"163\": [39.981367999, 116.302112986, \"NA\"]}], \"dists\": {\"taxi\": 4440.5732180625491, \"bike\": 6310.3548988285447, \"all\": 1127065.9769310469, \"run\": 5.7338214379781771, \"car\": 25881.514551531873, \"bus\": 18865.998425735539, \"walk\": 6880.5093888834826, \"train\": 34263.540181645367, \"motorcycle\": 4.303923491750826, \"NA\": 1011028.6588833343, \"airplane\": 11837.318163599522, \"boat\": 146.86584636220212, \"subway\": 7400.6056281401061}}\r\n",
      "\"2012-07-27 08:30:15\"\t{\"transports\": {\"NA\": 1}, \"users\": [{\"163\": [39.981102112000002, 116.302838884, \"NA\"]}], \"dists\": {\"taxi\": 4440.5732180625491, \"bike\": 6310.3548988285447, \"all\": 1127066.0569518383, \"run\": 5.7338214379781771, \"car\": 25881.514551531873, \"bus\": 18865.998425735539, \"walk\": 6880.5093888834826, \"train\": 34263.540181645367, \"motorcycle\": 4.303923491750826, \"NA\": 1011028.7389041254, \"airplane\": 11837.318163599522, \"boat\": 146.86584636220212, \"subway\": 7400.6056281401061}}\r\n",
      "\"2012-07-27 08:30:30\"\t{\"transports\": {\"NA\": 1}, \"users\": [{\"163\": [39.980758541999997, 116.30336708900001, \"NA\"]}], \"dists\": {\"taxi\": 4440.5732180625491, \"bike\": 6310.3548988285447, \"all\": 1127066.1298930936, \"run\": 5.7338214379781771, \"car\": 25881.514551531873, \"bus\": 18865.998425735539, \"walk\": 6880.5093888834826, \"train\": 34263.540181645367, \"motorcycle\": 4.303923491750826, \"NA\": 1011028.8118453807, \"airplane\": 11837.318163599522, \"boat\": 146.86584636220212, \"subway\": 7400.6056281401061}}\r\n",
      "\"2012-07-27 08:30:45\"\t{\"transports\": {\"NA\": 1}, \"users\": [{\"163\": [39.979523974000003, 116.303445903, \"NA\"]}], \"dists\": {\"taxi\": 4440.5732180625491, \"bike\": 6310.3548988285447, \"all\": 1127066.2674692622, \"run\": 5.7338214379781771, \"car\": 25881.514551531873, \"bus\": 18865.998425735539, \"walk\": 6880.5093888834826, \"train\": 34263.540181645367, \"motorcycle\": 4.303923491750826, \"NA\": 1011028.9494215493, \"airplane\": 11837.318163599522, \"boat\": 146.86584636220212, \"subway\": 7400.6056281401061}}\r\n",
      "\"2012-07-27 08:31:00\"\t{\"transports\": {\"NA\": 1}, \"users\": [{\"163\": [39.979480699, 116.303498873, \"NA\"]}], \"dists\": {\"taxi\": 4440.6102291981524, \"bike\": 6310.0853894530319, \"all\": 1127067.2433771822, \"run\": 5.7338214379781771, \"car\": 25881.040570076158, \"bus\": 18864.614405526136, \"walk\": 6879.9301089456039, \"train\": 34263.540181645367, \"motorcycle\": 4.303923491750826, \"NA\": 1011032.595109313, \"airplane\": 11837.318163599522, \"boat\": 146.86584636220212, \"subway\": 7400.6056281401061}}\r\n",
      "\"2012-07-27 08:31:15\"\t{\"transports\": {\"NA\": 1}, \"users\": [{\"163\": [39.979190224, 116.303586725, \"NA\"]}], \"dists\": {\"taxi\": 4440.6102291981524, \"bike\": 6310.0853894530319, \"all\": 1127067.276624779, \"run\": 5.7338214379781771, \"car\": 25881.040570076158, \"bus\": 18864.614405526136, \"walk\": 6879.9301089456039, \"train\": 34263.540181645367, \"motorcycle\": 4.303923491750826, \"NA\": 1011032.6283569098, \"airplane\": 11837.318163599522, \"boat\": 146.86584636220212, \"subway\": 7400.6056281401061}}\r\n",
      "\"2012-07-27 08:31:30\"\t{\"transports\": {\"NA\": 1}, \"users\": [{\"163\": [39.979080862000004, 116.30357232, \"NA\"]}], \"dists\": {\"taxi\": 4440.6102291981524, \"bike\": 6310.0853894530319, \"all\": 1127067.2888470639, \"run\": 5.7338214379781771, \"car\": 25881.040570076158, \"bus\": 18864.614405526136, \"walk\": 6879.9301089456039, \"train\": 34263.540181645367, \"motorcycle\": 4.303923491750826, \"NA\": 1011032.6405791948, \"airplane\": 11837.318163599522, \"boat\": 146.86584636220212, \"subway\": 7400.6056281401061}}\r\n"
     ]
    }
   ],
   "source": [
    "!tail ../../Geolife_Trajectories_1.3/local/aggregate2/*"
   ]
  },
  {
   "cell_type": "code",
   "execution_count": 183,
   "metadata": {
    "collapsed": false
   },
   "outputs": [
    {
     "name": "stdout",
     "output_type": "stream",
     "text": [
      "\"2012-07-27 08:29:15\"\t{\"transports\": {\"NA\": 1}, \"users\": [{\"163\": [39.984516663000001, 116.302059985, \"NA\"]}], \"dists\": {\"taxi\": 4196.7528788593245, \"bike\": 6205.3158435967216, \"all\": 1077668.9341454383, \"run\": 5.6461644826862152, \"car\": 23786.261057368167, \"bus\": 18029.82053246229, \"walk\": 6040.8616079211179, \"train\": 29149.117909132881, \"motorcycle\": 4.303923491750826, \"NA\": 972303.29654944164, \"airplane\": 11447.165041356469, \"boat\": 146.78578788456349, \"subway\": 6353.6068494493229}}\r\n",
      "\"2012-07-27 08:29:30\"\t{\"transports\": {\"NA\": 1}, \"users\": [{\"163\": [39.983167424000001, 116.302093149, \"NA\"]}], \"dists\": {\"taxi\": 4196.7528788593245, \"bike\": 6205.3158435967216, \"all\": 1077669.0842390985, \"run\": 5.6461644826862152, \"car\": 23786.261057368167, \"bus\": 18029.82053246229, \"walk\": 6040.8616079211179, \"train\": 29149.117909132881, \"motorcycle\": 4.303923491750826, \"NA\": 972303.44664310187, \"airplane\": 11447.165041356469, \"boat\": 146.78578788456349, \"subway\": 6353.6068494493229}}\r\n",
      "\"2012-07-27 08:29:45\"\t{\"transports\": {\"NA\": 1}, \"users\": [{\"163\": [39.98172641, 116.302066962, \"NA\"]}], \"dists\": {\"taxi\": 4196.7528788593245, \"bike\": 6205.3158435967216, \"all\": 1077669.2445031323, \"run\": 5.6461644826862152, \"car\": 23786.261057368167, \"bus\": 18029.82053246229, \"walk\": 6040.8616079211179, \"train\": 29149.117909132881, \"motorcycle\": 4.303923491750826, \"NA\": 972303.60690713581, \"airplane\": 11447.165041356469, \"boat\": 146.78578788456349, \"subway\": 6353.6068494493229}}\r\n",
      "\"2012-07-27 08:30:00\"\t{\"transports\": {\"NA\": 1}, \"users\": [{\"163\": [39.981367999, 116.302112986, \"NA\"]}], \"dists\": {\"taxi\": 4196.7158677237212, \"bike\": 6206.3567326456086, \"all\": 1077687.1305460967, \"run\": 5.6461644826862152, \"car\": 23786.730948465793, \"bus\": 18040.541089434719, \"walk\": 6040.9473324648116, \"train\": 29149.117909132881, \"motorcycle\": 4.303923491750826, \"NA\": 972309.21289957315, \"airplane\": 11447.165041356469, \"boat\": 146.78578788456349, \"subway\": 6353.6068494493229}}\r\n",
      "\"2012-07-27 08:30:15\"\t{\"transports\": {\"NA\": 1}, \"users\": [{\"163\": [39.981102112000002, 116.302838884, \"NA\"]}], \"dists\": {\"taxi\": 4196.7158677237212, \"bike\": 6206.3567326456086, \"all\": 1077687.2105668881, \"run\": 5.6461644826862152, \"car\": 23786.730948465793, \"bus\": 18040.541089434719, \"walk\": 6040.9473324648116, \"train\": 29149.117909132881, \"motorcycle\": 4.303923491750826, \"NA\": 972309.29292036453, \"airplane\": 11447.165041356469, \"boat\": 146.78578788456349, \"subway\": 6353.6068494493229}}\r\n",
      "\"2012-07-27 08:30:30\"\t{\"transports\": {\"NA\": 1}, \"users\": [{\"163\": [39.980758541999997, 116.30336708900001, \"NA\"]}], \"dists\": {\"taxi\": 4196.7158677237212, \"bike\": 6206.3567326456086, \"all\": 1077687.2835081432, \"run\": 5.6461644826862152, \"car\": 23786.730948465793, \"bus\": 18040.541089434719, \"walk\": 6040.9473324648116, \"train\": 29149.117909132881, \"motorcycle\": 4.303923491750826, \"NA\": 972309.36586161971, \"airplane\": 11447.165041356469, \"boat\": 146.78578788456349, \"subway\": 6353.6068494493229}}\r\n",
      "\"2012-07-27 08:30:45\"\t{\"transports\": {\"NA\": 1}, \"users\": [{\"163\": [39.979523974000003, 116.303445903, \"NA\"]}], \"dists\": {\"taxi\": 4196.7158677237212, \"bike\": 6206.3567326456086, \"all\": 1077687.4210843118, \"run\": 5.6461644826862152, \"car\": 23786.730948465793, \"bus\": 18040.541089434719, \"walk\": 6040.9473324648116, \"train\": 29149.117909132881, \"motorcycle\": 4.303923491750826, \"NA\": 972309.50343778834, \"airplane\": 11447.165041356469, \"boat\": 146.78578788456349, \"subway\": 6353.6068494493229}}\r\n",
      "\"2012-07-27 08:31:00\"\t{\"transports\": {\"NA\": 1}, \"users\": [{\"163\": [39.979480699, 116.303498873, \"NA\"]}], \"dists\": {\"taxi\": 4196.7528788593245, \"bike\": 6206.0872232700949, \"all\": 1077684.6461259536, \"run\": 5.6461644826862152, \"car\": 23786.268086502747, \"bus\": 18039.157069225312, \"walk\": 6040.368052526931, \"train\": 29149.117909132881, \"motorcycle\": 4.303923491750826, \"NA\": 972309.38713978173, \"airplane\": 11447.165041356469, \"boat\": 146.78578788456349, \"subway\": 6353.6068494493229}}\r\n",
      "\"2012-07-27 08:31:15\"\t{\"transports\": {\"NA\": 1}, \"users\": [{\"163\": [39.979190224, 116.303586725, \"NA\"]}], \"dists\": {\"taxi\": 4196.7528788593245, \"bike\": 6206.0872232700949, \"all\": 1077684.6793735505, \"run\": 5.6461644826862152, \"car\": 23786.268086502747, \"bus\": 18039.157069225312, \"walk\": 6040.368052526931, \"train\": 29149.117909132881, \"motorcycle\": 4.303923491750826, \"NA\": 972309.42038737854, \"airplane\": 11447.165041356469, \"boat\": 146.78578788456349, \"subway\": 6353.6068494493229}}\r\n",
      "\"2012-07-27 08:31:30\"\t{\"transports\": {\"NA\": 1}, \"users\": [{\"163\": [39.979080862000004, 116.30357232, \"NA\"]}], \"dists\": {\"taxi\": 4196.7528788593245, \"bike\": 6206.0872232700949, \"all\": 1077684.6915958354, \"run\": 5.6461644826862152, \"car\": 23786.268086502747, \"bus\": 18039.157069225312, \"walk\": 6040.368052526931, \"train\": 29149.117909132881, \"motorcycle\": 4.303923491750826, \"NA\": 972309.43260966358, \"airplane\": 11447.165041356469, \"boat\": 146.78578788456349, \"subway\": 6353.6068494493229}}\r\n"
     ]
    }
   ],
   "source": [
    "##EMR RESULTS\n",
    "# import smart_open\n",
    "# index = 0\n",
    "# filename='s3://w209-d3/aggregate/data_csv/part-00000'\n",
    "# for line in smart_open.smart_open(filename):\n",
    "#     print line.strip().split(\"\\t\")\n",
    "#     index +=1\n",
    "#     if index==10000: break\n",
    "\n",
    "##LOCAL RESULTS\n",
    "# !head -n100000 ../../Geolife_Trajectories_1.3/local/aggregate/*\n",
    "!tail ../../Geolife_Trajectories_1.3/local/aggregate3/*\n"
   ]
  },
  {
   "cell_type": "markdown",
   "metadata": {},
   "source": [
    "#Summary Statistics\n"
   ]
  },
  {
   "cell_type": "code",
   "execution_count": 171,
   "metadata": {
    "collapsed": false
   },
   "outputs": [
    {
     "name": "stdout",
     "output_type": "stream",
     "text": [
      "download: s3://w209-d3/aggregate3/data_csv/_SUCCESS to ../../Geolife_Trajectories_1.3/aggregate3/data_csv/_SUCCESS\n",
      "^CCleaning up. Please wait...                         \n",
      "\n"
     ]
    }
   ],
   "source": [
    "!aws s3 cp --recursive s3://w209-d3/aggregate3/  ../../Geolife_Trajectories_1.3/aggregate3/"
   ]
  },
  {
   "cell_type": "code",
   "execution_count": 152,
   "metadata": {
    "collapsed": false,
    "scrolled": true
   },
   "outputs": [],
   "source": [
    "!mv ../../Geolife_Trajectories_1.3/aggregate3/ ../../Geolife_Trajectories_1.3/local/aggregate3/"
   ]
  }
 ],
 "metadata": {
  "kernelspec": {
   "display_name": "Python 2",
   "language": "python",
   "name": "python2"
  },
  "language_info": {
   "codemirror_mode": {
    "name": "ipython",
    "version": 2
   },
   "file_extension": ".py",
   "mimetype": "text/x-python",
   "name": "python",
   "nbconvert_exporter": "python",
   "pygments_lexer": "ipython2",
   "version": "2.7.10"
  }
 },
 "nbformat": 4,
 "nbformat_minor": 0
}
