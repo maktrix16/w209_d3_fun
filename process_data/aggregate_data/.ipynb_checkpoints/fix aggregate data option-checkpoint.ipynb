{
 "cells": [
  {
   "cell_type": "markdown",
   "metadata": {},
   "source": [
    "#path data"
   ]
  },
  {
   "cell_type": "code",
   "execution_count": 3,
   "metadata": {
    "collapsed": false
   },
   "outputs": [],
   "source": [
    "import json\n",
    "\n",
    "aggregate_data = {}\n",
    "spring = \"2009-2\"\n",
    "summer = \"2009-3\"\n",
    "fall = \"2008-4\"\n",
    "winter = \"2009-1\"\n",
    "all_seasons = [spring,summer,fall,winter]\n",
    "new_data={}\n",
    "new_data[\"all\"]=[]\n",
    "\n",
    "path_data={}\n",
    "colors = {}\n",
    "\n",
    "with open(\"paths.js\",\"r\") as data:\n",
    "    data = json.load(data)\n",
    "    for season in all_seasons:\n",
    "        new_data[season]=data[season]\n",
    "        for transport_data in data[season]:\n",
    "#             print season, transport_data['name']\n",
    "#             print season\n",
    "            colors[transport_data[\"name\"]]=transport_data[\"color\"]\n",
    "    \n",
    "            path_data.setdefault(transport_data[\"name\"],[])\n",
    "            for path in transport_data[\"data\"]:\n",
    "                path_data[transport_data[\"name\"]].append(path)\n",
    "\n",
    "                \n",
    "for transport, paths_new in path_data.iteritems():\n",
    "    new_data[\"all\"].append({\n",
    "        \"color\":colors[transport],\n",
    "        \"name\":transport,\n",
    "        \"data\":paths_new\n",
    "    })\n",
    "\n",
    "with open('paths_processed.json', 'w') as outfile:\n",
    "    json.dump(new_data, outfile)\n",
    "\n",
    "\n"
   ]
  },
  {
   "cell_type": "markdown",
   "metadata": {},
   "source": [
    "#aggregate data"
   ]
  },
  {
   "cell_type": "code",
   "execution_count": 13,
   "metadata": {
    "collapsed": false
   },
   "outputs": [
    {
     "name": "stdout",
     "output_type": "stream",
     "text": [
      "{'2009-1': {u'taxi': {'duration': 240.33333333333334, 'distance': 161936.72384543731, 'hourly': [0, 0, 0, 0, 0, 0, 0, 0, 1, 0, 1, 1, 1, 1, 1, 2, 3, 0, 1, 1, 1, 1, 1, 2], 'paths': 9}, u'all': {'duration': 4853.166666666667, 'distance': 2812543.94861359, 'hourly': [0, 0, 0, 0, 0, 0, 15, 42, 39, 60, 36, 18, 23, 23, 32, 34, 55, 48, 46, 36, 38, 44, 30, 7], 'paths': 318}, u'bus': {'duration': 1409.55, 'distance': 450369.0361740853, 'hourly': [0, 0, 0, 0, 0, 0, 10, 12, 5, 5, 7, 2, 7, 4, 6, 2, 7, 9, 8, 4, 0, 2, 0, 0], 'paths': 45}, u'train': {'duration': 1.8, 'distance': 1191.5491766783105, 'hourly': [0, 0, 0, 0, 0, 0, 0, 1, 0, 0, 0, 0, 0, 0, 0, 0, 0, 0, 0, 0, 0, 0, 0, 0], 'paths': 1}, u'walk': {'duration': 805.5166666666667, 'distance': 329750.1246383506, 'hourly': [0, 0, 0, 0, 0, 0, 5, 10, 7, 13, 6, 4, 7, 4, 6, 8, 9, 7, 11, 8, 11, 9, 3, 2], 'paths': 69}, u'bike': {'duration': 370.95, 'distance': 493026.6801708975, 'hourly': [0, 0, 0, 0, 0, 0, 0, 17, 19, 6, 5, 6, 3, 7, 16, 15, 25, 20, 21, 13, 8, 3, 10, 2], 'paths': 63}, u'subway': {'duration': 1438.55, 'distance': 245827.446360929, 'hourly': [0, 0, 0, 0, 0, 0, 0, 1, 4, 15, 4, 0, 0, 0, 0, 1, 1, 0, 1, 3, 6, 12, 7, 0], 'paths': 44}, u'car': {'duration': 586.4666666666667, 'distance': 1130442.388247212, 'hourly': [0, 0, 0, 0, 0, 0, 0, 1, 3, 21, 13, 5, 5, 7, 3, 6, 10, 12, 4, 7, 12, 17, 9, 1], 'paths': 87}}, '2009-2': {u'taxi': {'duration': 156.65, 'distance': 176356.32372528847, 'hourly': [0, 0, 0, 0, 0, 0, 0, 0, 1, 1, 1, 3, 3, 0, 1, 2, 2, 3, 1, 1, 1, 2, 1, 1], 'paths': 13}, u'all': {'duration': 2927.633333333333, 'distance': 3767462.9661952206, 'hourly': [0, 0, 0, 0, 0, 0, 34, 69, 77, 73, 55, 54, 46, 43, 50, 38, 40, 69, 79, 59, 46, 43, 28, 3], 'paths': 491}, u'bus': {'duration': 249.33333333333334, 'distance': 1131261.7516784826, 'hourly': [0, 0, 0, 0, 0, 0, 25, 28, 9, 4, 18, 17, 10, 10, 10, 6, 7, 15, 19, 15, 10, 6, 2, 0], 'paths': 92}, u'walk': {'duration': 1137.3, 'distance': 572721.8173612165, 'hourly': [0, 0, 0, 0, 0, 0, 9, 19, 11, 18, 18, 20, 15, 16, 15, 16, 13, 17, 27, 18, 9, 9, 4, 1], 'paths': 132}, u'bike': {'duration': 147.21666666666667, 'distance': 508540.0173710175, 'hourly': [0, 0, 0, 0, 0, 0, 0, 17, 38, 3, 4, 6, 10, 8, 11, 8, 13, 21, 16, 12, 10, 8, 11, 0], 'paths': 92}, u'subway': {'duration': 89.21666666666667, 'distance': 438219.55728750053, 'hourly': [0, 0, 0, 0, 0, 0, 0, 5, 13, 32, 9, 4, 4, 4, 5, 1, 3, 5, 12, 4, 6, 5, 3, 1], 'paths': 91}, u'car': {'duration': 1147.9166666666667, 'distance': 940363.498771715, 'hourly': [0, 0, 0, 0, 0, 0, 0, 0, 5, 15, 5, 4, 4, 5, 8, 5, 2, 8, 4, 9, 10, 13, 7, 0], 'paths': 71}}, '2009-3': {u'taxi': {'duration': 282.8833333333333, 'distance': 296191.878426442, 'hourly': [0, 0, 0, 0, 0, 0, 0, 0, 2, 4, 4, 1, 0, 1, 2, 1, 2, 2, 3, 6, 5, 1, 0, 1], 'paths': 18}, u'all': {'duration': 3395.9499999999994, 'distance': 3093358.29693643, 'hourly': [0, 0, 1, 2, 1, 3, 12, 34, 58, 68, 37, 31, 22, 30, 34, 36, 39, 49, 53, 55, 39, 29, 39, 7], 'paths': 329}, u'bus': {'duration': 297.3666666666667, 'distance': 1354093.046032836, 'hourly': [0, 0, 1, 2, 1, 1, 7, 12, 9, 10, 13, 15, 9, 9, 12, 15, 19, 21, 19, 17, 16, 15, 10, 0], 'paths': 86}, u'walk': {'duration': 981.6333333333333, 'distance': 689532.7837506351, 'hourly': [0, 0, 0, 0, 0, 1, 3, 11, 21, 27, 11, 8, 6, 9, 12, 11, 13, 15, 19, 21, 13, 6, 7, 1], 'paths': 103}, u'bike': {'duration': 1171.0166666666667, 'distance': 318335.20153790043, 'hourly': [0, 0, 0, 0, 0, 1, 2, 10, 13, 7, 8, 7, 7, 8, 5, 4, 2, 7, 5, 4, 2, 4, 13, 3], 'paths': 52}, u'subway': {'duration': 473.45, 'distance': 365044.15105406, 'hourly': [0, 0, 0, 0, 0, 0, 0, 1, 13, 20, 1, 0, 0, 1, 3, 3, 1, 3, 6, 6, 3, 3, 9, 2], 'paths': 65}, u'car': {'duration': 189.6, 'distance': 70161.23613455691, 'hourly': [0, 0, 0, 0, 0, 0, 0, 0, 0, 0, 0, 0, 0, 2, 0, 2, 2, 1, 1, 1, 0, 0, 0, 0], 'paths': 5}}, '2008-4': {u'taxi': {'duration': 1093.7833333333333, 'distance': 511710.96119658643, 'hourly': [0, 0, 0, 0, 0, 0, 1, 6, 12, 3, 5, 2, 3, 5, 4, 2, 1, 2, 5, 14, 5, 3, 7, 3], 'paths': 62}, u'all': {'duration': 5964.033333333333, 'distance': 9563649.060117662, 'hourly': [6, 5, 2, 1, 1, 0, 3, 97, 164, 163, 180, 133, 122, 104, 93, 101, 172, 167, 182, 186, 124, 119, 71, 28], 'paths': 1195}, u'bus': {'duration': 92.65, 'distance': 2939206.238494105, 'hourly': [0, 0, 0, 0, 0, 0, 1, 40, 44, 42, 34, 30, 32, 22, 20, 25, 50, 44, 42, 33, 22, 17, 9, 0], 'paths': 256}, u'train': {'duration': 1421.65, 'distance': 267785.02720932575, 'hourly': [0, 0, 0, 0, 0, 0, 0, 10, 1, 0, 0, 1, 2, 0, 0, 1, 0, 0, 0, 8, 4, 1, 0, 0], 'paths': 28}, u'walk': {'duration': 463.3333333333333, 'distance': 2263751.8933754023, 'hourly': [1, 1, 1, 1, 1, 0, 1, 19, 63, 64, 56, 64, 56, 52, 43, 44, 71, 77, 73, 66, 43, 39, 24, 17], 'paths': 432}, u'bike': {'duration': 1002.3333333333334, 'distance': 1294876.5613118117, 'hourly': [4, 4, 1, 0, 0, 0, 0, 16, 22, 11, 25, 27, 22, 15, 18, 15, 32, 29, 41, 34, 18, 32, 19, 7], 'paths': 177}, u'subway': {'duration': 1418.05, 'distance': 559318.6345902422, 'hourly': [0, 0, 0, 0, 0, 0, 0, 3, 16, 17, 29, 5, 1, 0, 1, 3, 5, 6, 12, 17, 9, 9, 5, 0], 'paths': 103}, u'car': {'duration': 472.23333333333335, 'distance': 1726999.743940189, 'hourly': [1, 0, 0, 0, 0, 0, 0, 3, 6, 26, 31, 4, 6, 10, 7, 11, 13, 9, 9, 14, 23, 18, 7, 1], 'paths': 137}}}\n"
     ]
    }
   ],
   "source": [
    "import json\n",
    "\n",
    "aggregate_data = {}\n",
    "spring = \"2009-2\"\n",
    "summer = \"2009-3\"\n",
    "fall = \"2008-4\"\n",
    "winter = \"2009-1\"\n",
    "all_seasons = [spring,summer,fall,winter]\n",
    "new_data={}\n",
    "\n",
    "with open(\"aggregate.js\",\"r\") as data:\n",
    "    data = json.load(data)\n",
    "    for season in all_seasons: \n",
    "        new_data[season]={}\n",
    "        for transport, transport_data in data[season].iteritems():\n",
    "            new_data[season].setdefault(transport,{\"distance\":0, \"paths\":0, \"hourly\":[0]*24, \"duration\":0})\n",
    "            \n",
    "            for stat, stat_val in transport_data.iteritems():\n",
    "                if stat==\"distance\" or stat==\"paths\" or stat==\"duration\":\n",
    "                    new_data[season][transport][stat]+=stat_val\n",
    "                elif stat==\"hourly\":\n",
    "                    hourly_counts = new_data[season][transport][stat]\n",
    "                    new_data[season][transport][stat]=[x + y for x, y in zip(hourly_counts, stat_val)]\n",
    "\n",
    "with open('aggregate_processed.json', 'w') as outfile:\n",
    "    json.dump(new_data, outfile)\n",
    "          "
   ]
  },
  {
   "cell_type": "code",
   "execution_count": null,
   "metadata": {
    "collapsed": true
   },
   "outputs": [],
   "source": [
    "    "
   ]
  }
 ],
 "metadata": {
  "kernelspec": {
   "display_name": "Python 2",
   "language": "python",
   "name": "python2"
  },
  "language_info": {
   "codemirror_mode": {
    "name": "ipython",
    "version": 2
   },
   "file_extension": ".py",
   "mimetype": "text/x-python",
   "name": "python",
   "nbconvert_exporter": "python",
   "pygments_lexer": "ipython2",
   "version": "2.7.10"
  }
 },
 "nbformat": 4,
 "nbformat_minor": 0
}
