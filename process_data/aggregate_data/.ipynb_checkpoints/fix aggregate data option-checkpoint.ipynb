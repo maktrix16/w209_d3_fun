{
 "cells": [
  {
   "cell_type": "markdown",
   "metadata": {},
   "source": [
    "#path data"
   ]
  },
  {
   "cell_type": "code",
   "execution_count": 3,
   "metadata": {
    "collapsed": false
   },
   "outputs": [],
   "source": [
    "import json\n",
    "\n",
    "aggregate_data = {}\n",
    "spring = \"2009-2\"\n",
    "summer = \"2009-3\"\n",
    "fall = \"2008-4\"\n",
    "winter = \"2009-1\"\n",
    "all_seasons = [spring,summer,fall,winter]\n",
    "new_data={}\n",
    "new_data[\"all\"]=[]\n",
    "\n",
    "path_data={}\n",
    "colors = {}\n",
    "\n",
    "with open(\"paths.js\",\"r\") as data:\n",
    "    data = json.load(data)\n",
    "    for season in all_seasons:\n",
    "        new_data[season]=data[season]\n",
    "        for transport_data in data[season]:\n",
    "#             print season, transport_data['name']\n",
    "#             print season\n",
    "            colors[transport_data[\"name\"]]=transport_data[\"color\"]\n",
    "    \n",
    "            path_data.setdefault(transport_data[\"name\"],[])\n",
    "            for path in transport_data[\"data\"]:\n",
    "                path_data[transport_data[\"name\"]].append(path)\n",
    "\n",
    "                \n",
    "for transport, paths_new in path_data.iteritems():\n",
    "    new_data[\"all\"].append({\n",
    "        \"color\":colors[transport],\n",
    "        \"name\":transport,\n",
    "        \"data\":paths_new\n",
    "    })\n",
    "\n",
    "with open('paths_processed.json', 'w') as outfile:\n",
    "    json.dump(new_data, outfile)\n",
    "\n",
    "\n"
   ]
  },
  {
   "cell_type": "markdown",
   "metadata": {},
   "source": [
    "#aggregate data"
   ]
  },
  {
   "cell_type": "code",
   "execution_count": 16,
   "metadata": {
    "collapsed": false
   },
   "outputs": [],
   "source": [
    "import json\n",
    "\n",
    "aggregate_data = {}\n",
    "spring = \"2009-2\"\n",
    "summer = \"2009-3\"\n",
    "fall = \"2008-4\"\n",
    "winter = \"2009-1\"\n",
    "all_seasons = [spring,summer,fall,winter]\n",
    "new_data={\"all\":{}}\n",
    "\n",
    "with open(\"aggregate.js\",\"r\") as data:\n",
    "    data = json.load(data)\n",
    "    for season in all_seasons: \n",
    "        new_data[season]=data[season]\n",
    "        for transport, transport_data in data[season].iteritems():\n",
    "            new_data[\"all\"].setdefault(transport,{\"distance\":0, \"paths\":0, \"hourly\":[0]*24, \"duration\":0})\n",
    "            \n",
    "            for stat, stat_val in transport_data.iteritems():\n",
    "                if stat==\"distance\" or stat==\"paths\" or stat==\"duration\":\n",
    "                    new_data[\"all\"][transport][stat]+=stat_val\n",
    "                elif stat==\"hourly\":\n",
    "                    hourly_counts = new_data[\"all\"][transport][stat]\n",
    "                    new_data[\"all\"][transport][stat]=[x + y for x, y in zip(hourly_counts, stat_val)]\n",
    "\n",
    "with open('aggregate_processed.json', 'w') as outfile:\n",
    "    json.dump(new_data, outfile)\n",
    "          "
   ]
  },
  {
   "cell_type": "code",
   "execution_count": null,
   "metadata": {
    "collapsed": true
   },
   "outputs": [],
   "source": [
    "    "
   ]
  },
  {
   "cell_type": "code",
   "execution_count": 21,
   "metadata": {
    "collapsed": false
   },
   "outputs": [
    {
     "name": "stdout",
     "output_type": "stream",
     "text": [
      "242888\n"
     ]
    }
   ],
   "source": [
    "import json\n",
    "\n",
    "aggregate_data = {}\n",
    "spring = \"2009-2\"\n",
    "summer = \"2009-3\"\n",
    "fall = \"2008-4\"\n",
    "winter = \"2009-1\"\n",
    "all_seasons = [spring,summer,fall,winter]\n",
    "new_data={}\n",
    "new_data[\"all\"]=[]\n",
    "\n",
    "path_data={}\n",
    "colors = {}\n",
    "count_paths=0\n",
    "\n",
    "with open(\"paths.js\",\"r\") as data:\n",
    "    data = json.load(data)\n",
    "    for season in all_seasons:\n",
    "        new_data[season]=data[season]\n",
    "        for transport_data in data[season]:\n",
    "#             print season, transport_data['name']\n",
    "#             print season\n",
    "            colors[transport_data[\"name\"]]=transport_data[\"color\"]\n",
    "    \n",
    "            path_data.setdefault(transport_data[\"name\"],[])\n",
    "            for path in transport_data[\"data\"]:\n",
    "                for xy in path:\n",
    "                    count_paths+=1\n",
    "print count_paths*2\n"
   ]
  },
  {
   "cell_type": "code",
   "execution_count": 24,
   "metadata": {
    "collapsed": false
   },
   "outputs": [
    {
     "name": "stdout",
     "output_type": "stream",
     "text": [
      "1620\n"
     ]
    }
   ],
   "source": [
    "import json\n",
    "\n",
    "aggregate_data = {}\n",
    "spring = \"2009-2\"\n",
    "summer = \"2009-3\"\n",
    "fall = \"2008-4\"\n",
    "winter = \"2009-1\"\n",
    "all_seasons = [spring,summer,fall,winter]\n",
    "new_data={\"all\":{}}\n",
    "\n",
    "count_aggregate=0\n",
    "\n",
    "with open(\"aggregate.js\",\"r\") as data:\n",
    "    data = json.load(data)\n",
    "    for season in all_seasons: \n",
    "        new_data[season]=data[season]\n",
    "        for transport, transport_data in data[season].iteritems():\n",
    "            new_data[\"all\"].setdefault(transport,{\"distance\":0, \"paths\":0, \"hourly\":[0]*24, \"duration\":0})\n",
    "            \n",
    "            for stat, stat_val in transport_data.iteritems():\n",
    "                if stat==\"distance\" or stat==\"paths\" or stat==\"duration\":\n",
    "                    count_aggregate+=1\n",
    "                elif stat==\"hourly\":\n",
    "                    count_aggregate+=24\n",
    "\n",
    "print count_aggregate*2"
   ]
  }
 ],
 "metadata": {
  "kernelspec": {
   "display_name": "Python 2",
   "language": "python",
   "name": "python2"
  },
  "language_info": {
   "codemirror_mode": {
    "name": "ipython",
    "version": 2
   },
   "file_extension": ".py",
   "mimetype": "text/x-python",
   "name": "python",
   "nbconvert_exporter": "python",
   "pygments_lexer": "ipython2",
   "version": "2.7.10"
  }
 },
 "nbformat": 4,
 "nbformat_minor": 0
}
